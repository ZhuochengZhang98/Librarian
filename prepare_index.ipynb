{
 "cells": [
  {
   "cell_type": "markdown",
   "id": "cdb9c984",
   "metadata": {},
   "source": [
    "# Load embeddings"
   ]
  },
  {
   "cell_type": "code",
   "execution_count": 3,
   "id": "231889f2-57c7-4b79-8a78-abf888836275",
   "metadata": {},
   "outputs": [
    {
     "name": "stdout",
     "output_type": "stream",
     "text": [
      "Loading embeddings\n",
      "['passages_00', 'passages_01', 'passages_02', 'passages_03', 'passages_04', 'passages_05', 'passages_06', 'passages_07']\n",
      "(33176581, 768)\n"
     ]
    }
   ],
   "source": [
    "import tables\n",
    "import numpy as np\n",
    "import json\n",
    "import pickle\n",
    "import os\n",
    "\n",
    "\n",
    "DATA_PATH = \"/data/zhangzhuocheng/Lab/Python/LLM/datasets/RAG/wikipedia/wiki_2021\"\n",
    "\n",
    "\n",
    "# open embeddings\n",
    "print(\"Loading embeddings\")\n",
    "if os.path.exists(os.path.join(DATA_PATH, \"contriever_embeddings\", \"embeds.npy\")):\n",
    "    embeds = np.memmap(\n",
    "        os.path.join(DATA_PATH, \"contriever_embeddings\", \"embeds.npy\"),\n",
    "        mode=\"r\",\n",
    "        dtype=np.float16,\n",
    "        shape=(33176581, 768),\n",
    "    )\n",
    "else:\n",
    "    embeds = os.listdir(os.path.join(DATA_PATH, \"contriever_embeddings\"))\n",
    "    embeds = [i for i in embeds if i.startswith(\"passages\")]\n",
    "    embeds = sorted(embeds)\n",
    "    print(embeds)\n",
    "    embeds = [\n",
    "        pickle.load(open(os.path.join(DATA_PATH, \"contriever_embeddings\", i), \"rb\"))[1]\n",
    "        for i in embeds\n",
    "    ]\n",
    "    embeds = np.vstack(embeds)\n",
    "    embeds_mem = np.memmap(\n",
    "        os.path.join(DATA_PATH, \"contriever_embeddings\", \"embeds.npy\"),\n",
    "        mode=\"w+\",\n",
    "        dtype=np.float16,\n",
    "        shape=(33176581, 768),\n",
    "    )\n",
    "    embeds_mem[:] = embeds\n",
    "print(embeds.shape)"
   ]
  },
  {
   "cell_type": "markdown",
   "id": "20f7a526",
   "metadata": {},
   "source": [
    "# Load passages"
   ]
  },
  {
   "cell_type": "code",
   "execution_count": 4,
   "id": "71091eca",
   "metadata": {},
   "outputs": [
    {
     "name": "stdout",
     "output_type": "stream",
     "text": [
      "33176581\n"
     ]
    }
   ],
   "source": [
    "passages = [json.loads(i) for i in open(os.path.join(DATA_PATH, \"text-list-100-sec.jsonl\"), \"r\")]\n",
    "print(len(passages))"
   ]
  },
  {
   "cell_type": "markdown",
   "id": "5be49d1e",
   "metadata": {},
   "source": [
    "# Build HDF5 Memmap"
   ]
  },
  {
   "cell_type": "code",
   "execution_count": 5,
   "id": "bc9c150d-e061-4556-b44c-e4be70377131",
   "metadata": {},
   "outputs": [
    {
     "name": "stderr",
     "output_type": "stream",
     "text": [
      "100%|██████████| 33176581/33176581 [09:35<00:00, 57685.57it/s]\n"
     ]
    }
   ],
   "source": [
    "from tqdm import tqdm\n",
    "\n",
    "class RetrieveTable(tables.IsDescription):\n",
    "    title = tables.StringCol(1024, pos=1)\n",
    "    section = tables.StringCol(1024, pos=2)\n",
    "    text = tables.StringCol(1024, pos=3)\n",
    "    embedding = tables.Float16Col(768, pos=4)\n",
    "\n",
    "db_path = \"/data/zhangzhuocheng/Lab/Python/LLM/datasets/RAG/wikipedia/wiki_2021/contriever_embeddings_4/database.h5\"\n",
    "h5file = tables.open_file(db_path, mode=\"w\", title=\"Retriever Database\")\n",
    "group = h5file.create_group(\"/\", \"passages\", \"Passages\", filters=None)\n",
    "table = h5file.create_table(group, \"data\", RetrieveTable, \"data\")\n",
    "\n",
    "for emb, p in zip(tqdm(embeds), passages):\n",
    "    p = {\"text\": p} if isinstance(p, str) else p\n",
    "    row = table.row\n",
    "    row[\"title\"] = p.get(\"title\", \"\").encode()\n",
    "    row[\"section\"] = p.get(\"section\", \"\").encode()\n",
    "    row[\"text\"] = p.get(\"text\", \"\").encode()\n",
    "    row[\"embedding\"] = emb\n",
    "    row.append()\n",
    "table.flush()\n",
    "h5file.close()"
   ]
  },
  {
   "cell_type": "markdown",
   "id": "e16a6f27-0ae0-4b72-bfba-e33cda0093db",
   "metadata": {},
   "source": [
    "# Build Index"
   ]
  },
  {
   "cell_type": "code",
   "execution_count": null,
   "id": "ce1a5946-e469-412a-a0ef-8aec88518bce",
   "metadata": {},
   "outputs": [],
   "source": [
    "from index import FaissIndex\n",
    "\n",
    "\n",
    "index = FaissIndex(\n",
    "    index_path=os.path.join(DATA_PATH, \"contriever_embeddings_4/index.faiss\"),\n",
    "    vector_sz = 768,\n",
    "    n_subquantizers = 64,\n",
    "    n_bits = 8,\n",
    "    n_list = 4096,\n",
    "    n_probe = 36,\n",
    "    device_id = 0,\n",
    "    train_num = 1000000,\n",
    "    log_interval = 100,\n",
    ")\n",
    "print(\"Training index\")\n",
    "index.train_index(embeds)\n",
    "print(\"Adding index\")\n",
    "index.add_embeddings(embeds, batch_size=10000)\n",
    "index.serialize()"
   ]
  },
  {
   "cell_type": "markdown",
   "id": "b54a54fe",
   "metadata": {},
   "source": [
    "# Test indices"
   ]
  },
  {
   "cell_type": "code",
   "execution_count": null,
   "id": "e4f2ac5c",
   "metadata": {},
   "outputs": [],
   "source": [
    "from argparse import Namespace\n",
    "from retriever import DenseRetriever\n",
    "\n",
    "\n",
    "args = {\n",
    "    \"retriever_tokenizer\": \"/data/zhangzhuocheng/Lab/Python/LLM/models/RAG/contriever-msmarco\",\n",
    "    \"batch_size\": 512,\n",
    "    \"max_query_length\": 512,\n",
    "    \"max_passage_length\": 512,\n",
    "    \"no_title\": False,\n",
    "    \"lowercase\": False,\n",
    "    \"normalize_text\": False,\n",
    "    \"log_interval\": 100,\n",
    "    \"query_encoder\": \"\",\n",
    "    \"read_only\": True,\n",
    "    \"compress_database\": False,\n",
    "    \"database_path\": \"/data/zhangzhuocheng/Lab/Python/LLM/datasets/RAG/wikipedia/wiki_2021/contriever_embeddings_4\",\n",
    "    \"n_subquantizers\": 64,\n",
    "    \"n_list\": 4096,\n",
    "    \"n_bits\": 8,\n",
    "    \"n_probe\": 32,\n",
    "    \"device_id\": 0,\n",
    "    \"train_num\": 1000000,\n",
    "}\n",
    "args = Namespace(**args)\n",
    "\n",
    "\n",
    "retriever = DenseRetriever(args)\n",
    "while True:\n",
    "    query = input(\"Query: \")\n",
    "    if query == \"quit\":\n",
    "        break\n",
    "    r = retriever.search([query])[0]\n",
    "    pass\n",
    "# retriever.test_acc(top_k=5)\n",
    "retriever.close()"
   ]
  }
 ],
 "metadata": {
  "kernelspec": {
   "display_name": "Python 3 (ipykernel)",
   "language": "python",
   "name": "python3"
  },
  "language_info": {
   "codemirror_mode": {
    "name": "ipython",
    "version": 3
   },
   "file_extension": ".py",
   "mimetype": "text/x-python",
   "name": "python",
   "nbconvert_exporter": "python",
   "pygments_lexer": "ipython3",
   "version": "3.11.9"
  }
 },
 "nbformat": 4,
 "nbformat_minor": 5
}
